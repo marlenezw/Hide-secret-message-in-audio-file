{
 "cells": [
  {
   "cell_type": "markdown",
   "metadata": {},
   "source": [
    "## Encode your secret message in an audio file"
   ]
  },
  {
   "cell_type": "code",
   "execution_count": 7,
   "metadata": {},
   "outputs": [],
   "source": [
    "import wave"
   ]
  },
  {
   "cell_type": "code",
   "execution_count": 9,
   "metadata": {},
   "outputs": [],
   "source": [
    "# Read frames and convert to byte array \n",
    "song = wave.open('cover_audio.wav', mode='rb')\n",
    "\n",
    "frame_bytes = bytearray(list(song.readframes(song.getnframes())))"
   ]
  },
  {
   "cell_type": "code",
   "execution_count": 10,
   "metadata": {},
   "outputs": [],
   "source": [
    "\n",
    "# The secret text message \n",
    "string = \"Meet me at midnight\"\n",
    "\n",
    "# Add dummy data \n",
    "string = string + int((len(frame_bytes)-(len(string)*8*8))/8) *'#'\n",
    "\n",
    "# Convert text to bit array\n",
    "bits = list(map(int, ''.join([bin(ord(i)).lstrip('0b').rjust(8,'0') for i in string])))\n"
   ]
  },
  {
   "cell_type": "code",
   "execution_count": 11,
   "metadata": {},
   "outputs": [],
   "source": [
    "# Replace LSB of each byte of the audio data by one bit from the text bit array\n",
    "for i, bit in enumerate(bits):\n",
    "    frame_bytes[i] = (frame_bytes[i] & 254) | bit\n",
    "# Get the modified bytes\n",
    "frame_modified = bytes(frame_bytes)\n",
    "\n",
    "# Write bytes to a new wave audio file\n",
    "with wave.open('secret.wav', 'wb') as fd:\n",
    "    fd.setparams(song.getparams())\n",
    "    fd.writeframes(frame_modified)\n",
    "song.close()"
   ]
  },
  {
   "cell_type": "markdown",
   "metadata": {},
   "source": [
    "## Decode your secret message "
   ]
  },
  {
   "cell_type": "code",
   "execution_count": 12,
   "metadata": {},
   "outputs": [
    {
     "name": "stdout",
     "output_type": "stream",
     "text": [
      "Sucessfully decoded: Meet me at midnight\n"
     ]
    }
   ],
   "source": [
    "# Code to read the file and convert it to bytes\n",
    "song = wave.open('secret.wav', mode='rb')\n",
    "\n",
    "frame_bytes = bytearray(list(song.readframes(song.getnframes())))\n",
    "\n",
    "#Extract the LSB of each byte \n",
    "extracted = [frame_bytes[i] & 1 for i in range(len(frame_bytes))]\n",
    "\n",
    "#Convert byte array back to string\n",
    "string = \"\".join(chr(int(\"\".join(map(str, extracted[i:i+8])),2))\n",
    "for i in range(0, len(extracted),8))\n",
    "\n",
    "#Cut off the filler characters\n",
    "decoded = string.split(\"###\")[0]\n",
    "\n",
    "# Print the extracted text\n",
    "print(f\"Sucessfully decoded: {decoded}\")\n",
    "song.close()"
   ]
  },
  {
   "cell_type": "code",
   "execution_count": null,
   "metadata": {},
   "outputs": [],
   "source": []
  }
 ],
 "metadata": {
  "interpreter": {
   "hash": "b0fa6594d8f4cbf19f97940f81e996739fb7646882a419484c72d19e05852a7e"
  },
  "kernelspec": {
   "display_name": "Python 3.10.8 64-bit",
   "language": "python",
   "name": "python3"
  },
  "language_info": {
   "codemirror_mode": {
    "name": "ipython",
    "version": 3
   },
   "file_extension": ".py",
   "mimetype": "text/x-python",
   "name": "python",
   "nbconvert_exporter": "python",
   "pygments_lexer": "ipython3",
   "version": "3.10.8"
  },
  "orig_nbformat": 4
 },
 "nbformat": 4,
 "nbformat_minor": 2
}
